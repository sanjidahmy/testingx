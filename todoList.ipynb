{
 "cells": [
  {
   "cell_type": "code",
   "execution_count": 1,
   "metadata": {},
   "outputs": [],
   "source": [
    "todoList = [] # start with an empty list"
   ]
  },
  {
   "cell_type": "code",
   "execution_count": 2,
   "metadata": {},
   "outputs": [
    {
     "name": "stdout",
     "output_type": "stream",
     "text": [
      "[]\n"
     ]
    }
   ],
   "source": [
    "print(todoList)"
   ]
  },
  {
   "cell_type": "code",
   "execution_count": null,
   "metadata": {},
   "outputs": [
    {
     "name": "stdout",
     "output_type": "stream",
     "text": [
      " Please enter a task, press (x) to exitlololol\n",
      "['play games', 'play games', 'uno', 'do homework', 'eat lunch', 'lololol']\n"
     ]
    }
   ],
   "source": [
    "# ask the user over and over again for a task, add it to the list, print the list out\n",
    "# initialise the loop variable\n",
    "tooList = []\n",
    "task = \"\" # htis is an empty string, its NOT an x, so the loop will execute at least once\n",
    "while task != \"x\" :\n",
    "    task =  input(\" Please enter a task, press (x) to exit\").lower()\n",
    "    if task != \"x\" :\n",
    "        todoList.append(task) # the append method adds a new task to the END of the ist \n",
    "\n",
    "    print(todoList)\n",
    "    \n",
    "print(\"you are done, here is your final list\", todoList)"
   ]
  }
 ],
 "metadata": {
  "kernelspec": {
   "display_name": "Python 3",
   "language": "python",
   "name": "python3"
  },
  "language_info": {
   "codemirror_mode": {
    "name": "ipython",
    "version": 3
   },
   "file_extension": ".py",
   "mimetype": "text/x-python",
   "name": "python",
   "nbconvert_exporter": "python",
   "pygments_lexer": "ipython3",
   "version": "3.5.2"
  }
 },
 "nbformat": 4,
 "nbformat_minor": 2
}
